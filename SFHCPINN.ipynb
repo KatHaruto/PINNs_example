{
  "nbformat": 4,
  "nbformat_minor": 0,
  "metadata": {
    "colab": {
      "provenance": [],
      "authorship_tag": "ABX9TyO7RV44CBPUIVKeEu2uX6ee",
      "include_colab_link": true
    },
    "kernelspec": {
      "name": "python3",
      "display_name": "Python 3"
    },
    "language_info": {
      "name": "python"
    }
  },
  "cells": [
    {
      "cell_type": "markdown",
      "metadata": {
        "id": "view-in-github",
        "colab_type": "text"
      },
      "source": [
        "<a href=\"https://colab.research.google.com/github/KatHaruto/PINNs_example/blob/main/SFHCPINN.ipynb\" target=\"_parent\"><img src=\"https://colab.research.google.com/assets/colab-badge.svg\" alt=\"Open In Colab\"/></a>"
      ]
    },
    {
      "cell_type": "markdown",
      "source": [
        "difference between $SFHCPINN_{NN}$ and $SFHCPINN$ is whether distance function adn extension functino are numerically determined , or computed using NN that trained before PINNs training."
      ],
      "metadata": {
        "id": "oKdGQDmHCCJD"
      }
    },
    {
      "cell_type": "code",
      "source": [
        "import sys\n",
        "sys.version"
      ],
      "metadata": {
        "colab": {
          "base_uri": "https://localhost:8080/",
          "height": 35
        },
        "id": "t5M5dDt_OQLc",
        "outputId": "e705ae94-eef0-452c-aff8-5acacc673f42"
      },
      "execution_count": 2,
      "outputs": [
        {
          "output_type": "execute_result",
          "data": {
            "text/plain": [
              "'3.11.11 (main, Dec  4 2024, 08:55:07) [GCC 11.4.0]'"
            ],
            "application/vnd.google.colaboratory.intrinsic+json": {
              "type": "string"
            }
          },
          "metadata": {},
          "execution_count": 2
        }
      ]
    },
    {
      "cell_type": "code",
      "source": [
        "from functools import partial\n",
        "from typing import Literal,TypeAlias, Protocol # type alias statement requires Python 3.12 or newer\n",
        "import warnings\n",
        "\n",
        "import numpy as np\n",
        "import torch\n",
        "import torch.nn as nn\n",
        "import torch.optim as optim\n",
        "from tqdm import tqdm\n",
        "from scipy.stats import qmc\n"
      ],
      "metadata": {
        "id": "ZEakC1jmAFRA"
      },
      "execution_count": 3,
      "outputs": []
    },
    {
      "cell_type": "code",
      "source": [
        "device = torch.device('cuda:0' if torch.cuda.is_available() else 'cpu')"
      ],
      "metadata": {
        "id": "wVW1MqhLUHPt"
      },
      "execution_count": 4,
      "outputs": []
    },
    {
      "cell_type": "code",
      "source": [
        "\n",
        "\n",
        "SAMPLING_STRATEGY: TypeAlias = Literal[\"uniform\", \"LHS\", \"Sobol\"] # todo: \"adaptive\"\n"
      ],
      "metadata": {
        "id": "lvvLGYDBOMyl"
      },
      "execution_count": 5,
      "outputs": []
    },
    {
      "cell_type": "code",
      "source": [
        "class Sin(nn.Module):\n",
        "  def __init__(self):\n",
        "    super(Sin, self).__init__()\n",
        "  def forward(self, x):\n",
        "    return torch.sin(x)\n",
        "\n",
        "class FourierFeatureLayer(nn.Module):\n",
        "    def __init__(self,input_dim, hidden_size, k):\n",
        "      super(FourierFeatureLayer, self).__init__()\n",
        "      self.k = k\n",
        "      self.w1 = nn.Linear(input_dim, hidden_size)\n",
        "      self.w2 = nn.Linear(input_dim, hidden_size)\n",
        "\n",
        "    def forward(self, x):\n",
        "      x1 = self.w1(self.k * x)\n",
        "      x2 = self.w2(self.k * x)\n",
        "      return torch.cat([torch.cos(x1), torch.sin(x2)] , dim=1)\n",
        "\n",
        "class PINN(nn.Module):\n",
        "  def __init__(self, *, input_dim, output_dim, hidden_size_list, frequency=None):\n",
        "    super(PINN, self).__init__()\n",
        "    layers = []\n",
        "\n",
        "    for i, hidden_size in enumerate(hidden_size_list):\n",
        "      if i == 0 and frequency is not None:\n",
        "        # first frequency fourier feature mapping\n",
        "        layers.append(FourierFeatureLayer(input_dim, hidden_size, frequency))\n",
        "        input_dim = hidden_size * 2\n",
        "      else:\n",
        "        layers.append(nn.Linear(input_dim, hidden_size))\n",
        "        layers.append(Sin())\n",
        "        input_dim = hidden_size\n",
        "    layers.append(nn.Linear(input_dim, output_dim))\n",
        "\n",
        "    self.layers = nn.Sequential(*layers)\n",
        "\n",
        "\n",
        "\n",
        "  def forward(self, x):\n",
        "    return self.layers(x)\n",
        "\n",
        "\n",
        "class SFPINN(nn.Module):\n",
        "  def __init__(self, input_dim, output_dim,  subn_hidden_size_list: list[list[int]], frequencies: list[int]):\n",
        "    super(SFPINN, self).__init__()\n",
        "    if len(subn_hidden_size_list) != len(frequencies):\n",
        "      raise ValueError(\"subn_hidden_size_list and frequencies must have the same length\")\n",
        "\n",
        "    self.subnetworks = nn.ModuleList(\n",
        "        [\n",
        "          PINN(\n",
        "            input_dim=input_dim,\n",
        "            output_dim=output_dim,\n",
        "            hidden_size_list=hidden_size_list,\n",
        "            frequency=freq\n",
        "          ) for hidden_size_list,freq in zip(subn_hidden_size_list, frequencies)\n",
        "        ]\n",
        "    )\n",
        "\n",
        "    self.w = nn.Linear(output_dim * len(frequencies), output_dim)\n",
        "\n",
        "\n",
        "\n",
        "  def forward(self, x):\n",
        "    out = torch.cat([subn(x) for subn in self.subnetworks], dim=1)\n",
        "    return self.w(out)"
      ],
      "metadata": {
        "id": "8f1OQ5P3Hgeu"
      },
      "execution_count": 6,
      "outputs": []
    },
    {
      "cell_type": "markdown",
      "source": [
        "# one dimensional ADE\n",
        "\n",
        "## Governing Equation\n",
        "$$\n",
        "\\frac{\\partial u(x,t)}{\\partial t}  = \\tilde{p} \\frac{\\partial^2u(x,t)}{\\partial t} - \\tilde{q} \\frac{\\partial u(x,t)}{\\partial x} + f(x,t), for\\,x \\in [a,b]\\, and\\, t \\in [t_0,T]\n",
        "$$\n",
        "\n",
        "### I/C and B/C\n",
        "$$\n",
        "u(x,t_0) = A_0(x), \\\\\n",
        "u(a,t) = A_1(t), \\\\\n",
        "u(b,t) = A_2(t), \\\\\n",
        "\\frac{\\partial u(a,t)}{\\partial x} = N_1(t), \\\\\n",
        "\\frac{\\partial u(b,t)}{\\partial x} = N_2(t)\n",
        "$$\n",
        "\n",
        "### Solution is folloing equation\n",
        "$$\n",
        "u(x,t) =  e^{-\\alpha t}[sin(\\pi x) + 0.1 sin(\\beta \\pi x)]\n",
        "$$"
      ],
      "metadata": {
        "id": "9vujsOCY9K89"
      }
    },
    {
      "cell_type": "code",
      "source": [],
      "metadata": {
        "id": "r7rdPqy4DvEE"
      },
      "execution_count": 6,
      "outputs": []
    },
    {
      "cell_type": "code",
      "execution_count": 7,
      "metadata": {
        "id": "NcM2WhRZ8l7X"
      },
      "outputs": [],
      "source": [
        "p_hat = 0.02\n",
        "q_hat = 0.01\n",
        "\n",
        "Omega = (0., 2.)\n",
        "T = (0.,5.)\n",
        "\n",
        "alpha = 0.1\n",
        "beta = 30"
      ]
    },
    {
      "cell_type": "code",
      "source": [
        "def U(xt):\n",
        "  x,t = xt[:,0], xt[:,1]\n",
        "  return torch.exp(-alpha * t) * (torch.sin(torch.pi * x) + 0.1 * torch.sin(beta * torch.pi * x))\n",
        "\n",
        "def du_dt(xt):\n",
        "  return -alpha * U(xt)\n",
        "\n",
        "def du_dx(xt):\n",
        "  x,t = xt[:,0], xt[:,1]\n",
        "  return torch.exp(-alpha * t) * (torch.pi * torch.cos(torch.pi * x) + 0.1 * beta * torch.pi * torch.cos(beta * torch.pi * x))\n",
        "\n",
        "def d2u_dx2(xt):\n",
        "  x,t = xt[:,0], xt[:,1]\n",
        "  return torch.exp(-alpha * t) * (- torch.pi**2 * torch.sin(torch.pi * x) - 0.1 * beta**2 * torch.pi**2 * torch.sin(beta * torch.pi * x))\n",
        "\n",
        "def D(xt):\n",
        "  x,t = xt[:,0], xt[:,1]\n",
        "  return x * (2-x) * t / ( 5 * 2**2)\n",
        "\n",
        "def G(xt):\n",
        "  x,t = xt[:,0], xt[:,1]\n",
        "  return torch.sin(torch.pi * x) + 0.1 * torch.sin(beta * torch.pi * x)"
      ],
      "metadata": {
        "id": "ya5WEwRPAXvb"
      },
      "execution_count": 16,
      "outputs": []
    },
    {
      "cell_type": "code",
      "source": [
        "epoch = 50_000\n",
        "N_r = 8_000\n",
        "\n",
        "## SFHCPINN does not need initial/boundary points.\n",
        "# N_b = 4_000\n",
        "# N_i = 3_000\n",
        "\n",
        "initial_lr = 0.01\n",
        "decay_rate = 0.975\n",
        "decay_step_size = 100\n",
        "\n",
        "gamma_0 = 20\n",
        "\n",
        "\n"
      ],
      "metadata": {
        "id": "L8pi-gdfA3lg"
      },
      "execution_count": 9,
      "outputs": []
    },
    {
      "cell_type": "code",
      "source": [
        "class Sampler(Protocol):\n",
        "  def __init__(self,dim: int): ...\n",
        "  def sample(self, boundary, num): ...\n",
        "\n",
        "class UniformSampler:\n",
        "  def __init__(self,dim):\n",
        "    self.dim = dim\n",
        "  def sample(self, boundary:list[list[int]], num:int):\n",
        "    return np.random.uniform(size=(num, self.dim)) * (boundary[:,1] - boundary[:,0]) + boundary[:,0]\n",
        "\n",
        "class LHSSampler:\n",
        "  def __init__(self,dim):\n",
        "    self.dim = dim\n",
        "    self.sampler = qmc.LatinHypercube(d=dim)\n",
        "  def sample(self, boundary:list[list[int]], num:int):\n",
        "    return self.sampler.random(num) * (boundary[:,1] - boundary[:,0]) + boundary[:,0]\n",
        "\n",
        "class SobolSampler:\n",
        "  def __init__(self,dim):\n",
        "    self.dim = dim\n",
        "    self.sampler = qmc.Sobol(d=dim, scramble=True)\n",
        "\n",
        "  def sample(self, boundary:list[list[int]], num:int):\n",
        "    if not np.log2(num).is_integer():\n",
        "      warnings.warn(\"number of samples should be power of 2\")\n",
        "    return self.sampler.random(num) * (boundary[:,1] - boundary[:,0]) + boundary[:,0]\n"
      ],
      "metadata": {
        "id": "A5CLcHFuXDuS"
      },
      "execution_count": 10,
      "outputs": []
    },
    {
      "cell_type": "code",
      "source": [
        "def gen_sample(sampling_num:int, boundary: list, strategy: SAMPLING_STRATEGY):\n",
        "  def _get_sampler(strategy: SAMPLING_STRATEGY, dim) -> Sampler:\n",
        "    if strategy == \"uniform\":\n",
        "      return UniformSampler(dim)\n",
        "    if strategy == \"LHS\":\n",
        "      return LHSSampler(dim)\n",
        "    if strategy == \"Sobol\":\n",
        "      return SobolSampler(dim)\n",
        "    raise ValueError(f\"Unknown sampling strategy: {strategy}\")\n",
        "\n",
        "  dim = len(boundary)\n",
        "  return torch.from_numpy(_get_sampler(strategy, dim).sample(boundary, sampling_num)).to(torch.float)"
      ],
      "metadata": {
        "id": "4-DlYPjlaj0i"
      },
      "execution_count": 11,
      "outputs": []
    },
    {
      "cell_type": "code",
      "source": [
        "def generate_collocation_data(N,boundary,gen_sample_func):\n",
        "  return gen_sample_func(N,boundary)"
      ],
      "metadata": {
        "id": "CGZlCfHFalNR"
      },
      "execution_count": 12,
      "outputs": []
    },
    {
      "cell_type": "code",
      "source": [
        "def compute_penalty(gamma_0, current_epoch, total_epoch):\n",
        "  if current_epoch < 0.1 * total_epoch:\n",
        "    return gamma_0\n",
        "  if current_epoch < 0.2 * total_epoch:\n",
        "    return 10 * gamma_0\n",
        "  if current_epoch < 0.25 * total_epoch:\n",
        "    return 50 * gamma_0\n",
        "  if current_epoch < 0.5 * total_epoch:\n",
        "    return 100 * gamma_0\n",
        "  if current_epoch < 0.75 * total_epoch:\n",
        "    return 200 * gamma_0\n",
        "  return 500 * gamma_0"
      ],
      "metadata": {
        "id": "YrM43z_ig5JM"
      },
      "execution_count": 13,
      "outputs": []
    },
    {
      "cell_type": "code",
      "source": [
        "\n",
        "\n",
        "def train(model, boundary, pde_residual, optimizer, scheduler, epoch,sampling_stragtegy='uniform'):\n",
        "  gen_sample_func = partial(gen_sample, strategy=sampling_stragtegy)\n",
        "  losses = []\n",
        "  for e in tqdm(range(epoch)):\n",
        "    model.train()\n",
        "    optimizer.zero_grad()\n",
        "\n",
        "    xt = generate_collocation_data(N_r, boundary,gen_sample_func).to(device)\n",
        "\n",
        "    assert xt.size() == torch.Size([N_r, 2])\n",
        "    xt_ = xt.clone().detach().requires_grad_(True)\n",
        "    out = model(xt_)\n",
        "    g = G(xt_)\n",
        "    d = D(xt_)\n",
        "    u = g + d * out\n",
        "    #print(f\"u: {u.mean().item()} g: {g.mean().item()} d: {d.mean().item()}\")\n",
        "    res = pde_residual(u,xt_,e)\n",
        "    #print(f\" res mean: {torch.mean(res).item()}, res sqaured mean: {torch.mean(torch.square(res)).item()}\")\n",
        "    loss = torch.mean(torch.square(res))\n",
        "    loss.backward()\n",
        "\n",
        "    optimizer.step()\n",
        "    scheduler.step()\n",
        "    losses.append(loss.item())\n",
        "\n",
        "    if e % 1000 == 0:\n",
        "      print(f\"epoch: {e}, loss: {loss.item():.5f}\")\n",
        "      with torch.no_grad():\n",
        "        model.eval()\n",
        "        test_xt = generate_collocation_data(10_000, boundary,gen_sample_func).to(device)\n",
        "        test_out = model(xt)\n",
        "        g = G(xt_)\n",
        "        d = D(xt_)\n",
        "        u_pred = g + d * out\n",
        "\n",
        "        u_true = U(xt)\n",
        "        mse = torch.mean(torch.square(u_pred - u_true))\n",
        "        rel = torch.square(u_pred - u_true).sum() / torch.square(u_true).sum()\n",
        "        print(f\"MSE: {mse.item():.5f}\")\n",
        "        print(f\"rel: {rel.item():.5f}\")\n",
        "\n",
        "\n",
        "\n",
        "  return losses[-1]\n",
        "\n",
        "\n"
      ],
      "metadata": {
        "id": "-KMpMoMrHl5D"
      },
      "execution_count": 17,
      "outputs": []
    },
    {
      "cell_type": "code",
      "source": [
        "boundary = np.array([[0.,2.],[0.,5.]])\n",
        "\n",
        "\n",
        "def source_fn(xt):\n",
        "    return du_dt(xt) - p_hat * d2u_dx2(xt) + q_hat * du_dx(xt)\n",
        "\n",
        "def pde_residual(u,X, current_epoch):\n",
        "    #X_pde = X\n",
        "    # X_pde = X.clone().detach().requires_grad_(True)\n",
        "    grad_u = torch.autograd.grad(u, X, torch.ones_like(u), create_graph=True)[0]\n",
        "    du_dx = grad_u[:,0:1]\n",
        "    du_dt = grad_u[:,1:2]\n",
        "\n",
        "    # 2次微分\n",
        "    d2u_dx2 = torch.autograd.grad(du_dx, X, torch.ones_like(du_dx), create_graph=True)[0][:,0:1]\n",
        "\n",
        "    S_val = source_fn(X)\n",
        "\n",
        "    # cのPDE残差\n",
        "    res_c = du_dt - p_hat * d2u_dx2 + q_hat * du_dx - S_val\n",
        "\n",
        "    return res_c\n",
        "\n",
        "number_of_subnetworks = 20\n",
        "# model = PINN(input_dim=2,output_dim=1, hidden_size_list=[100,150,80,80,50])\n",
        "model = SFPINN(input_dim=2,output_dim=1,subn_hidden_size_list=[[10,25,20,20,10] for _ in range(number_of_subnetworks)],frequencies=list(range(1,21)))\n",
        "model.to(device)\n",
        "optimizer = optim.Adam(model.parameters(), lr=initial_lr)\n",
        "scheduler = optim.lr_scheduler.StepLR(optimizer, step_size=decay_step_size, gamma=decay_rate)\n",
        "\n",
        "\n",
        "train(model, boundary, pde_residual, optimizer, scheduler, epoch)"
      ],
      "metadata": {
        "colab": {
          "base_uri": "https://localhost:8080/",
          "height": 379
        },
        "id": "Pb3NuUptwRsQ",
        "outputId": "2e87d6ba-2b4c-4b87-cffc-3d1a46e9fbc6"
      },
      "execution_count": 18,
      "outputs": [
        {
          "output_type": "stream",
          "name": "stderr",
          "text": [
            "\r  0%|          | 0/50000 [00:00<?, ?it/s]"
          ]
        },
        {
          "output_type": "stream",
          "name": "stdout",
          "text": [
            "epoch: 0, loss: 10136254464.00000\n"
          ]
        },
        {
          "output_type": "stream",
          "name": "stderr",
          "text": [
            "\r  0%|          | 1/50000 [00:05<80:36:11,  5.80s/it]"
          ]
        },
        {
          "output_type": "stream",
          "name": "stdout",
          "text": [
            "MSE: 0.02897\n",
            "rel: 724.41663\n"
          ]
        },
        {
          "output_type": "stream",
          "name": "stderr",
          "text": [
            "  0%|          | 98/50000 [08:03<68:22:04,  4.93s/it]\n"
          ]
        },
        {
          "output_type": "error",
          "ename": "KeyboardInterrupt",
          "evalue": "",
          "traceback": [
            "\u001b[0;31m---------------------------------------------------------------------------\u001b[0m",
            "\u001b[0;31mKeyboardInterrupt\u001b[0m                         Traceback (most recent call last)",
            "\u001b[0;32m<ipython-input-18-2e591ee244de>\u001b[0m in \u001b[0;36m<cell line: 0>\u001b[0;34m()\u001b[0m\n\u001b[1;32m     30\u001b[0m \u001b[0;34m\u001b[0m\u001b[0m\n\u001b[1;32m     31\u001b[0m \u001b[0;34m\u001b[0m\u001b[0m\n\u001b[0;32m---> 32\u001b[0;31m \u001b[0mtrain\u001b[0m\u001b[0;34m(\u001b[0m\u001b[0mmodel\u001b[0m\u001b[0;34m,\u001b[0m \u001b[0mboundary\u001b[0m\u001b[0;34m,\u001b[0m \u001b[0mpde_residual\u001b[0m\u001b[0;34m,\u001b[0m \u001b[0moptimizer\u001b[0m\u001b[0;34m,\u001b[0m \u001b[0mscheduler\u001b[0m\u001b[0;34m,\u001b[0m \u001b[0mepoch\u001b[0m\u001b[0;34m)\u001b[0m\u001b[0;34m\u001b[0m\u001b[0;34m\u001b[0m\u001b[0m\n\u001b[0m",
            "\u001b[0;32m<ipython-input-17-33eff30e54bd>\u001b[0m in \u001b[0;36mtrain\u001b[0;34m(model, boundary, pde_residual, optimizer, scheduler, epoch, sampling_stragtegy)\u001b[0m\n\u001b[1;32m     17\u001b[0m     \u001b[0mres\u001b[0m \u001b[0;34m=\u001b[0m \u001b[0mpde_residual\u001b[0m\u001b[0;34m(\u001b[0m\u001b[0mu\u001b[0m\u001b[0;34m,\u001b[0m\u001b[0mxt_\u001b[0m\u001b[0;34m,\u001b[0m\u001b[0me\u001b[0m\u001b[0;34m)\u001b[0m\u001b[0;34m\u001b[0m\u001b[0;34m\u001b[0m\u001b[0m\n\u001b[1;32m     18\u001b[0m     \u001b[0;31m#print(f\" res mean: {torch.mean(res).item()}, res sqaured mean: {torch.mean(torch.square(res)).item()}\")\u001b[0m\u001b[0;34m\u001b[0m\u001b[0;34m\u001b[0m\u001b[0m\n\u001b[0;32m---> 19\u001b[0;31m     \u001b[0mloss\u001b[0m \u001b[0;34m=\u001b[0m \u001b[0mtorch\u001b[0m\u001b[0;34m.\u001b[0m\u001b[0mmean\u001b[0m\u001b[0;34m(\u001b[0m\u001b[0mtorch\u001b[0m\u001b[0;34m.\u001b[0m\u001b[0msquare\u001b[0m\u001b[0;34m(\u001b[0m\u001b[0mres\u001b[0m\u001b[0;34m)\u001b[0m\u001b[0;34m)\u001b[0m\u001b[0;34m\u001b[0m\u001b[0;34m\u001b[0m\u001b[0m\n\u001b[0m\u001b[1;32m     20\u001b[0m     \u001b[0mloss\u001b[0m\u001b[0;34m.\u001b[0m\u001b[0mbackward\u001b[0m\u001b[0;34m(\u001b[0m\u001b[0;34m)\u001b[0m\u001b[0;34m\u001b[0m\u001b[0;34m\u001b[0m\u001b[0m\n\u001b[1;32m     21\u001b[0m \u001b[0;34m\u001b[0m\u001b[0m\n",
            "\u001b[0;31mKeyboardInterrupt\u001b[0m: "
          ]
        }
      ]
    },
    {
      "cell_type": "code",
      "source": [
        "# # plot\n",
        "# import matplotlib.pyplot as plt\n",
        "\n",
        "# xt = generate_collocation_data(N_r, boundary,partial(gen_sample, strategy='Sobol'))\n",
        "# xx,tt = torch.meshgrid(xt[:,0],xt[:,1])\n",
        "# d = D(xt).unsqueeze(0).detach().cpu().numpy()\n",
        "# plt.scatter(xt[:,0],xt[:,1], c=d)\n",
        "# plt.colorbar()\n",
        "# plt.xlabel('x')\n",
        "# plt.ylabel('t')\n",
        "# plt.title('D(x,t)')\n",
        "# plt.show()"
      ],
      "metadata": {
        "id": "wTtTJUqWSWru"
      },
      "execution_count": null,
      "outputs": []
    }
  ]
}